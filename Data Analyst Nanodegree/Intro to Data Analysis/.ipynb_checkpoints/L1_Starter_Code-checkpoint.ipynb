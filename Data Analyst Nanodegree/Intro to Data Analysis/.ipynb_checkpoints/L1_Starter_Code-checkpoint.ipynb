{
 "cells": [
  {
   "cell_type": "markdown",
   "metadata": {},
   "source": [
    "## Load Data from CSVs"
   ]
  },
  {
   "cell_type": "code",
   "execution_count": 54,
   "metadata": {},
   "outputs": [
    {
     "name": "stdout",
     "output_type": "stream",
     "text": [
      "\n",
      " {\n",
      "    \"account_key\": \"448\",\n",
      "    \"cancel_date\": \"2015-01-14\",\n",
      "    \"days_to_cancel\": \"65\",\n",
      "    \"is_canceled\": \"True\",\n",
      "    \"is_udacity\": \"True\",\n",
      "    \"join_date\": \"2014-11-10\",\n",
      "    \"status\": \"canceled\"\n",
      "}\n"
     ]
    }
   ],
   "source": [
    "import unicodecsv\n",
    "import json\n",
    "\n",
    "def print_data(data):\n",
    "    if len(data) > 0:\n",
    "        print(\"\\n\",json.dumps(data, indent=4, sort_keys=True, default=str))\n",
    "    else:\n",
    "        print(\"\\nempty\")\n",
    "    \n",
    "def print_data_0(data):\n",
    "    if len(data) > 0:\n",
    "        print(\"\\n\",json.dumps(data[0], indent=4, sort_keys=True, default=str))\n",
    "    else:\n",
    "        print(\"\\nempty\")\n",
    "\n",
    "## Longer version of code (replaced with shorter, equivalent version below)\n",
    "\n",
    "# enrollments = []\n",
    "# f = open('enrollments.csv', 'rb')\n",
    "# reader = unicodecsv.DictReader(f)\n",
    "# for row in reader:\n",
    "#     enrollments.append(row)\n",
    "# f.close()\n",
    "\n",
    "with open('enrollments.csv', 'rb') as f:\n",
    "    reader = unicodecsv.DictReader(f)\n",
    "    enrollments = list(reader)\n",
    "print_data(enrollments[0])"
   ]
  },
  {
   "cell_type": "code",
   "execution_count": 2,
   "metadata": {},
   "outputs": [
    {
     "name": "stdout",
     "output_type": "stream",
     "text": [
      "{\n",
      "    \"acct\": \"0\",\n",
      "    \"utc_date\": \"2015-01-09\",\n",
      "    \"num_courses_visited\": \"1.0\",\n",
      "    \"total_minutes_visited\": \"11.6793745\",\n",
      "    \"lessons_completed\": \"0.0\",\n",
      "    \"projects_completed\": \"0.0\"\n",
      "}\n"
     ]
    }
   ],
   "source": [
    "#####################################\n",
    "#                 1                 #\n",
    "#####################################\n",
    "\n",
    "## Read in the data from daily_engagement.csv and project_submissions.csv \n",
    "## and store the results in the below variables.\n",
    "## Then look at the first row of each table.\n",
    "with open('daily_engagement.csv', 'rb') as f:\n",
    "    reader = unicodecsv.DictReader(f)\n",
    "    daily_engagement = list(reader)\n",
    "print_data(daily_engagement[0])"
   ]
  },
  {
   "cell_type": "code",
   "execution_count": 3,
   "metadata": {},
   "outputs": [
    {
     "name": "stdout",
     "output_type": "stream",
     "text": [
      "{\n",
      "    \"creation_date\": \"2015-01-14\",\n",
      "    \"completion_date\": \"2015-01-16\",\n",
      "    \"assigned_rating\": \"UNGRADED\",\n",
      "    \"account_key\": \"256\",\n",
      "    \"lesson_key\": \"3176718735\",\n",
      "    \"processing_state\": \"EVALUATED\"\n",
      "}\n"
     ]
    }
   ],
   "source": [
    "with open('project_submissions.csv', 'rb') as f:\n",
    "    reader = unicodecsv.DictReader(f)\n",
    "    project_submissions = list(reader)\n",
    "print_data(project_submissions[0])"
   ]
  },
  {
   "cell_type": "markdown",
   "metadata": {},
   "source": [
    "## Fixing Data Types"
   ]
  },
  {
   "cell_type": "code",
   "execution_count": 4,
   "metadata": {},
   "outputs": [
    {
     "name": "stdout",
     "output_type": "stream",
     "text": [
      "\n",
      " {\n",
      "    \"account_key\": \"448\",\n",
      "    \"cancel_date\": \"2015-01-14 00:00:00\",\n",
      "    \"days_to_cancel\": 65,\n",
      "    \"is_canceled\": true,\n",
      "    \"is_udacity\": true,\n",
      "    \"join_date\": \"2014-11-10 00:00:00\",\n",
      "    \"status\": \"canceled\"\n",
      "}\n"
     ]
    }
   ],
   "source": [
    "from datetime import datetime as dt\n",
    "\n",
    "# Takes a date as a string, and returns a Python datetime object. \n",
    "# If there is no date given, returns None\n",
    "def parse_date(date):\n",
    "    if date == '':\n",
    "        return None\n",
    "    else:\n",
    "        return dt.strptime(date, '%Y-%m-%d')\n",
    "    \n",
    "# Takes a string which is either an empty string or represents an integer,\n",
    "# and returns an int or None.\n",
    "def parse_maybe_int(i):\n",
    "    if i == '':\n",
    "        return None\n",
    "    else:\n",
    "        return int(i)\n",
    "\n",
    "# Clean up the data types in the enrollments table\n",
    "for enrollment in enrollments:\n",
    "    enrollment['cancel_date'] = parse_date(enrollment['cancel_date'])\n",
    "    enrollment['days_to_cancel'] = parse_maybe_int(enrollment['days_to_cancel'])\n",
    "    enrollment['is_canceled'] = enrollment['is_canceled'] == 'True'\n",
    "    enrollment['is_udacity'] = enrollment['is_udacity'] == 'True'\n",
    "    enrollment['join_date'] = parse_date(enrollment['join_date'])\n",
    "    \n",
    "#can't print json becuase datetime is not serializable\n",
    "print_data_0(enrollments)"
   ]
  },
  {
   "cell_type": "code",
   "execution_count": 5,
   "metadata": {},
   "outputs": [
    {
     "name": "stdout",
     "output_type": "stream",
     "text": [
      "\n",
      " {\n",
      "    \"acct\": \"0\",\n",
      "    \"lessons_completed\": 0,\n",
      "    \"num_courses_visited\": 1,\n",
      "    \"projects_completed\": 0,\n",
      "    \"total_minutes_visited\": 11.6793745,\n",
      "    \"utc_date\": \"2015-01-09 00:00:00\"\n",
      "}\n"
     ]
    }
   ],
   "source": [
    "# Clean up the data types in the engagement table\n",
    "for engagement_record in daily_engagement:\n",
    "    engagement_record['lessons_completed'] = int(float(engagement_record['lessons_completed']))\n",
    "    engagement_record['num_courses_visited'] = int(float(engagement_record['num_courses_visited']))\n",
    "    engagement_record['projects_completed'] = int(float(engagement_record['projects_completed']))\n",
    "    engagement_record['total_minutes_visited'] = float(engagement_record['total_minutes_visited'])\n",
    "    engagement_record['utc_date'] = parse_date(engagement_record['utc_date'])\n",
    "    \n",
    "print_data_0(daily_engagement)"
   ]
  },
  {
   "cell_type": "code",
   "execution_count": 6,
   "metadata": {},
   "outputs": [
    {
     "name": "stdout",
     "output_type": "stream",
     "text": [
      "\n",
      " {\n",
      "    \"account_key\": \"256\",\n",
      "    \"assigned_rating\": \"UNGRADED\",\n",
      "    \"completion_date\": \"2015-01-16 00:00:00\",\n",
      "    \"creation_date\": \"2015-01-14 00:00:00\",\n",
      "    \"lesson_key\": \"3176718735\",\n",
      "    \"processing_state\": \"EVALUATED\"\n",
      "}\n"
     ]
    }
   ],
   "source": [
    "# Clean up the data types in the submissions table\n",
    "for submission in project_submissions:\n",
    "    submission['completion_date'] = parse_date(submission['completion_date'])\n",
    "    submission['creation_date'] = parse_date(submission['creation_date'])\n",
    "\n",
    "print_data_0(project_submissions)"
   ]
  },
  {
   "cell_type": "markdown",
   "metadata": {},
   "source": [
    "## Investigating the Data"
   ]
  },
  {
   "cell_type": "markdown",
   "metadata": {},
   "source": [
    "## Problems in the Data"
   ]
  },
  {
   "cell_type": "code",
   "execution_count": 7,
   "metadata": {},
   "outputs": [
    {
     "name": "stdout",
     "output_type": "stream",
     "text": [
      "\n",
      " {\n",
      "    \"account_key\": \"0\",\n",
      "    \"lessons_completed\": 0,\n",
      "    \"num_courses_visited\": 1,\n",
      "    \"projects_completed\": 0,\n",
      "    \"total_minutes_visited\": 11.6793745,\n",
      "    \"utc_date\": \"2015-01-09 00:00:00\"\n",
      "}\n"
     ]
    }
   ],
   "source": [
    "#####################################\n",
    "#                 3                 #\n",
    "#####################################\n",
    "\n",
    "## Rename the \"acct\" column in the daily_engagement table to \"account_key\".\n",
    "for row in daily_engagement:\n",
    "    row['account_key'] = row['acct']\n",
    "    del(row['acct'])\n",
    "print_data_0(daily_engagement)"
   ]
  },
  {
   "cell_type": "code",
   "execution_count": 8,
   "metadata": {},
   "outputs": [
    {
     "name": "stdout",
     "output_type": "stream",
     "text": [
      "total enrollments:  1640\n",
      "unique enrollments:  1302\n",
      "\n",
      "total engagements:  136240\n",
      "unique engagements:  1237\n",
      "\n",
      "total submissions:  3642\n",
      "unique submissions:  743\n"
     ]
    }
   ],
   "source": [
    "#####################################\n",
    "#                 2                 #\n",
    "#####################################\n",
    "\n",
    "## Find the total number of rows and the number of unique students (account keys)\n",
    "## in each table.\n",
    "\n",
    "unique_enrollments = set()\n",
    "for rows in enrollments:\n",
    "    unique_enrollments.add(rows['account_key'])\n",
    "print(\"total enrollments: \", len(enrollments))\n",
    "print(\"unique enrollments: \", len(unique_enrollments))\n",
    "\n",
    "unique_engagements = set()\n",
    "for rows in daily_engagement:\n",
    "    unique_engagements.add(rows['account_key'])\n",
    "print(\"\\ntotal engagements: \", len(daily_engagement))\n",
    "print(\"unique engagements: \", len(unique_engagements))\n",
    "\n",
    "unique_submissions = set()\n",
    "for rows in project_submissions:\n",
    "    unique_submissions.add(rows['account_key'])\n",
    "print(\"\\ntotal submissions: \", len(project_submissions))\n",
    "print(\"unique submissions: \", len(unique_submissions))"
   ]
  },
  {
   "cell_type": "markdown",
   "metadata": {},
   "source": [
    "## Missing Engagement Records"
   ]
  },
  {
   "cell_type": "code",
   "execution_count": 9,
   "metadata": {},
   "outputs": [
    {
     "name": "stdout",
     "output_type": "stream",
     "text": [
      "\n",
      " {\n",
      "    \"account_key\": \"1219\",\n",
      "    \"cancel_date\": \"2014-11-12 00:00:00\",\n",
      "    \"days_to_cancel\": 0,\n",
      "    \"is_canceled\": true,\n",
      "    \"is_udacity\": false,\n",
      "    \"join_date\": \"2014-11-12 00:00:00\",\n",
      "    \"status\": \"canceled\"\n",
      "}\n"
     ]
    }
   ],
   "source": [
    "#####################################\n",
    "#                 4                 #\n",
    "#####################################\n",
    "\n",
    "## Find any one student enrollments where the student is missing from the daily engagement table.\n",
    "## Output that enrollment.\n",
    "for enrollment in enrollments:\n",
    "    if enrollment['account_key'] not in unique_engagements:\n",
    "        print_data(enrollment)\n",
    "        break\n",
    "# the odd enrollments all have 'days_to_cancel' = 0"
   ]
  },
  {
   "cell_type": "markdown",
   "metadata": {},
   "source": [
    "## Checking for More Problem Records"
   ]
  },
  {
   "cell_type": "code",
   "execution_count": 10,
   "metadata": {},
   "outputs": [
    {
     "name": "stdout",
     "output_type": "stream",
     "text": [
      "3\n"
     ]
    }
   ],
   "source": [
    "#####################################\n",
    "#                 5                 #\n",
    "#####################################\n",
    "\n",
    "## Find the number of surprising data points (enrollments missing from\n",
    "## the engagement table) that remain, if any.\n",
    "\n",
    "# this question is poorly worded; it wants missing engagements excluding the ones found above\n",
    "issues = 0\n",
    "for enrollment in enrollments:\n",
    "    if enrollment['account_key'] not in unique_engagements \\\n",
    "            and enrollment['days_to_cancel'] != 0:\n",
    "        issues += 1\n",
    "print(issues)"
   ]
  },
  {
   "cell_type": "markdown",
   "metadata": {},
   "source": [
    "## Tracking Down the Remaining Problems"
   ]
  },
  {
   "cell_type": "code",
   "execution_count": 11,
   "metadata": {},
   "outputs": [
    {
     "data": {
      "text/plain": [
       "6"
      ]
     },
     "execution_count": 11,
     "metadata": {},
     "output_type": "execute_result"
    }
   ],
   "source": [
    "# Create a set of the account keys for all Udacity test accounts\n",
    "udacity_test_accounts = set()\n",
    "for enrollment in enrollments:\n",
    "    if enrollment['is_udacity']:\n",
    "        udacity_test_accounts.add(enrollment['account_key'])\n",
    "len(udacity_test_accounts)"
   ]
  },
  {
   "cell_type": "code",
   "execution_count": 12,
   "metadata": {},
   "outputs": [],
   "source": [
    "# Given some data with an account_key field, removes any records corresponding to Udacity test accounts\n",
    "def remove_udacity_accounts(data):\n",
    "    non_udacity_data = []\n",
    "    for data_point in data:\n",
    "        if data_point['account_key'] not in udacity_test_accounts:\n",
    "            non_udacity_data.append(data_point)\n",
    "    return non_udacity_data"
   ]
  },
  {
   "cell_type": "code",
   "execution_count": 13,
   "metadata": {},
   "outputs": [
    {
     "name": "stdout",
     "output_type": "stream",
     "text": [
      "1622\n",
      "135656\n",
      "3634\n"
     ]
    }
   ],
   "source": [
    "# Remove Udacity test accounts from all three tables\n",
    "non_udacity_enrollments = remove_udacity_accounts(enrollments)\n",
    "non_udacity_engagement = remove_udacity_accounts(daily_engagement)\n",
    "non_udacity_submissions = remove_udacity_accounts(project_submissions)\n",
    "\n",
    "print (len(non_udacity_enrollments))\n",
    "print (len(non_udacity_engagement))\n",
    "print (len(non_udacity_submissions))"
   ]
  },
  {
   "cell_type": "markdown",
   "metadata": {},
   "source": [
    "## Refining the Question"
   ]
  },
  {
   "cell_type": "code",
   "execution_count": 14,
   "metadata": {},
   "outputs": [
    {
     "data": {
      "text/plain": [
       "995"
      ]
     },
     "execution_count": 14,
     "metadata": {},
     "output_type": "execute_result"
    }
   ],
   "source": [
    "#####################################\n",
    "#                 6                 #\n",
    "#####################################\n",
    "\n",
    "## Create a dictionary named paid_students containing all students who either\n",
    "## haven't canceled yet or who remained enrolled for more than 7 days. The keys\n",
    "## should be account keys, and the values should be the date the student enrolled.\n",
    "\n",
    "# haven't canceled yet: enrollments['is_canceled'] == false\n",
    "# enrolled > 7 days: enrollments['days_to_cancel'] > 7\n",
    "\n",
    "paid_students = {} # empty dictionary\n",
    "for enrollment in non_udacity_enrollments:\n",
    "    if not enrollment['is_canceled'] or enrollment['days_to_cancel'] > 7:\n",
    "        account_key = enrollment['account_key']\n",
    "        enrollment_date = enrollment['join_date']\n",
    "        # don't add duplicate students; use most recent enrollment\n",
    "        if account_key not in paid_students \\\n",
    "                or enrollment_date > paid_students[account_key]:\n",
    "            paid_students[account_key] = enrollment_date\n",
    "len(paid_students)\n",
    "        "
   ]
  },
  {
   "cell_type": "markdown",
   "metadata": {},
   "source": [
    "## Getting Data from First Week"
   ]
  },
  {
   "cell_type": "code",
   "execution_count": 15,
   "metadata": {},
   "outputs": [],
   "source": [
    "# Takes a student's join date and the date of a specific engagement record,\n",
    "# and returns True if that engagement record happened within one week\n",
    "# of the student joining.\n",
    "def within_one_week(join_date, engagement_date):\n",
    "    time_delta = engagement_date - join_date\n",
    "    return time_delta.days < 7 and time_delta.days >= 0"
   ]
  },
  {
   "cell_type": "code",
   "execution_count": 16,
   "metadata": {},
   "outputs": [
    {
     "name": "stdout",
     "output_type": "stream",
     "text": [
      "6919\n"
     ]
    }
   ],
   "source": [
    "#####################################\n",
    "#                 7                 #\n",
    "#####################################\n",
    "\n",
    "## Create a list of rows from the engagement table including only rows where\n",
    "## the student is one of the paid students you just found, and the date is within\n",
    "## one week of the student's join date.\n",
    "\n",
    "# exclude < 1 week becuase they are free trials\n",
    "\n",
    "paid_engagement_in_first_week = [ ]\n",
    "for engagement in non_udacity_engagement:\n",
    "    account_key = engagement['account_key']\n",
    "    \n",
    "    if account_key in paid_students: # one of the paid students\n",
    "        join_date = paid_students[account_key]\n",
    "        engagement_date = engagement['utc_date']\n",
    "        \n",
    "        if within_one_week(join_date, engagement_date): # within 1 week of join date\n",
    "            paid_engagement_in_first_week.append(engagement)\n",
    "            \n",
    "print(len(paid_engagement_in_first_week))"
   ]
  },
  {
   "cell_type": "code",
   "execution_count": 17,
   "metadata": {},
   "outputs": [
    {
     "name": "stdout",
     "output_type": "stream",
     "text": [
      "6919\n"
     ]
    }
   ],
   "source": [
    "# their suggested method\n",
    "#takes a list of dictionaries, and removes those canceld after trials\n",
    "def remove_free_trial_cancels(data):\n",
    "    new_data = [ ]\n",
    "    for record in data:\n",
    "        if record['account_key'] in paid_students:\n",
    "            new_data.append(record)\n",
    "    return new_data\n",
    "\n",
    "paid_enrollments = remove_free_trial_cancels(non_udacity_enrollments)\n",
    "paid_engagements = remove_free_trial_cancels(non_udacity_engagement)\n",
    "paid_submissions = remove_free_trial_cancels(non_udacity_submissions)\n",
    "\n",
    "paid_engagement_in_first_week = [ ]\n",
    "for engagement in paid_engagements:\n",
    "    account_key = engagement['account_key']\n",
    "    join_date = paid_students[account_key]\n",
    "    engagement_record  = engagement['utc_date']\n",
    "    \n",
    "    if within_one_week(join_date, engagement_record):\n",
    "        paid_engagement_in_first_week.append(engagement)\n",
    "\n",
    "print(len(paid_engagement_in_first_week))"
   ]
  },
  {
   "cell_type": "markdown",
   "metadata": {},
   "source": [
    "## Exploring Student Engagement"
   ]
  },
  {
   "cell_type": "code",
   "execution_count": 18,
   "metadata": {},
   "outputs": [],
   "source": [
    "from collections import defaultdict\n",
    "\n",
    "# Create a dictionary of engagement grouped by student.\n",
    "# The keys are account keys, and the values are lists of engagement records.\n",
    "engagement_by_account = defaultdict(list)\n",
    "for engagement_record in paid_engagement_in_first_week:\n",
    "    account_key = engagement_record['account_key']\n",
    "    engagement_by_account[account_key].append(engagement_record)"
   ]
  },
  {
   "cell_type": "code",
   "execution_count": 19,
   "metadata": {},
   "outputs": [],
   "source": [
    "# Create a dictionary with the total minutes each student spent in the classroom during the first week.\n",
    "# The keys are account keys, and the values are numbers (total minutes)\n",
    "total_minutes_by_account = {}\n",
    "for account_key, engagement_for_student in engagement_by_account.items():\n",
    "    total_minutes = 0\n",
    "    for engagement_record in engagement_for_student:\n",
    "        total_minutes += engagement_record['total_minutes_visited']\n",
    "    total_minutes_by_account[account_key] = total_minutes"
   ]
  },
  {
   "cell_type": "code",
   "execution_count": 20,
   "metadata": {},
   "outputs": [
    {
     "name": "stdout",
     "output_type": "stream",
     "text": [
      "Mean: 306.70832675342825\n",
      "Standard deviation: 412.99693340852957\n",
      "Minimum: 0.0\n",
      "Maximum: 3564.7332644989997\n"
     ]
    }
   ],
   "source": [
    "total_minutes = list(total_minutes_by_account.values())\n",
    "\n",
    "import numpy as np\n",
    "\n",
    "# Summarize the data about minutes spent in the classroom\n",
    "#print(total_minutes[0])\n",
    "print ('Mean:', np.mean(total_minutes))\n",
    "print ('Standard deviation:', np.std(total_minutes))\n",
    "print ('Minimum:', np.min(total_minutes))\n",
    "print ('Maximum:', np.max(total_minutes))"
   ]
  },
  {
   "cell_type": "markdown",
   "metadata": {},
   "source": [
    "## Debugging Data Analysis Code"
   ]
  },
  {
   "cell_type": "code",
   "execution_count": 21,
   "metadata": {},
   "outputs": [
    {
     "name": "stdout",
     "output_type": "stream",
     "text": [
      "\n",
      " {\n",
      "    \"account_key\": \"163\",\n",
      "    \"lessons_completed\": 4,\n",
      "    \"num_courses_visited\": 4,\n",
      "    \"projects_completed\": 0,\n",
      "    \"total_minutes_visited\": 850.519339666,\n",
      "    \"utc_date\": \"2015-07-09 00:00:00\"\n",
      "}\n",
      "\n",
      " {\n",
      "    \"account_key\": \"163\",\n",
      "    \"lessons_completed\": 6,\n",
      "    \"num_courses_visited\": 6,\n",
      "    \"projects_completed\": 0,\n",
      "    \"total_minutes_visited\": 872.633923334,\n",
      "    \"utc_date\": \"2015-07-10 00:00:00\"\n",
      "}\n",
      "\n",
      " {\n",
      "    \"account_key\": \"163\",\n",
      "    \"lessons_completed\": 6,\n",
      "    \"num_courses_visited\": 2,\n",
      "    \"projects_completed\": 0,\n",
      "    \"total_minutes_visited\": 777.018903666,\n",
      "    \"utc_date\": \"2015-07-11 00:00:00\"\n",
      "}\n",
      "\n",
      " {\n",
      "    \"account_key\": \"163\",\n",
      "    \"lessons_completed\": 2,\n",
      "    \"num_courses_visited\": 1,\n",
      "    \"projects_completed\": 0,\n",
      "    \"total_minutes_visited\": 294.568774,\n",
      "    \"utc_date\": \"2015-07-12 00:00:00\"\n",
      "}\n",
      "\n",
      " {\n",
      "    \"account_key\": \"163\",\n",
      "    \"lessons_completed\": 1,\n",
      "    \"num_courses_visited\": 3,\n",
      "    \"projects_completed\": 0,\n",
      "    \"total_minutes_visited\": 471.2139785,\n",
      "    \"utc_date\": \"2015-07-13 00:00:00\"\n",
      "}\n",
      "\n",
      " {\n",
      "    \"account_key\": \"163\",\n",
      "    \"lessons_completed\": 1,\n",
      "    \"num_courses_visited\": 2,\n",
      "    \"projects_completed\": 0,\n",
      "    \"total_minutes_visited\": 298.778345333,\n",
      "    \"utc_date\": \"2015-07-14 00:00:00\"\n",
      "}\n",
      "\n",
      " {\n",
      "    \"account_key\": \"163\",\n",
      "    \"lessons_completed\": 0,\n",
      "    \"num_courses_visited\": 0,\n",
      "    \"projects_completed\": 0,\n",
      "    \"total_minutes_visited\": 0.0,\n",
      "    \"utc_date\": \"2015-07-15 00:00:00\"\n",
      "}\n"
     ]
    }
   ],
   "source": [
    "#####################################\n",
    "#                 8                 #\n",
    "#####################################\n",
    "\n",
    "## Go through a similar process as before to see if there is a problem.\n",
    "## Locate at least one surprising piece of data, output it, and take a look at it.\n",
    "student_max = None\n",
    "max_min = 0\n",
    "for student, total_minutes in total_minutes_by_account.items():\n",
    "    if total_minutes > max_min:\n",
    "        max_min = total_minutes\n",
    "        student_max = student\n",
    "for engagement in paid_engagement_in_first_week:\n",
    "    if student_max == engagement['account_key']:\n",
    "        print_data(engagement)\n",
    "# updated within_one_week() to exclude engagements from earlier enrollments"
   ]
  },
  {
   "cell_type": "markdown",
   "metadata": {},
   "source": [
    "## Lessons Completed in First Week"
   ]
  },
  {
   "cell_type": "code",
   "execution_count": 22,
   "metadata": {},
   "outputs": [],
   "source": [
    "#####################################\n",
    "#                 9                 #\n",
    "#####################################\n",
    "\n",
    "## Adapt the code above to find the mean, standard deviation, minimum, and maximum for\n",
    "## the number of lessons completed by each student during the first week. Try creating\n",
    "## one or more functions to re-use the code above.\n",
    "\n",
    "# index data by a key's value\n",
    "def group_data(data,key):\n",
    "    grouped_data = defaultdict(list)\n",
    "    for record in data:\n",
    "        value = record[key]\n",
    "        grouped_data[ value ].append( record )\n",
    "    return grouped_data\n",
    "\n",
    "# sum all pre-grouped data values of the given key\n",
    "def sum_grouped_data(data, field):\n",
    "    summed_data = {}\n",
    "    for key, value_list in data.items(): \n",
    "        # the key is the index of the grouped data\n",
    "        # value_list is a list of dictionaries, each with several key:value pairs\n",
    "        total = 0\n",
    "        # each key may have multiple dictionaries (value_list > 1 elements)\n",
    "        # so we need to sum each dict's values of the given field\n",
    "        for value in value_list:\n",
    "            total += value[field]\n",
    "        summed_data[key] = total\n",
    "        # why didn't the below work?\n",
    "         # for value in value_list:\n",
    "           # summed_data[key] += value[field]\n",
    "    return summed_data\n",
    "\n",
    "def describe_data(data):\n",
    "    data_temp = list(data.values()) # for python 3...\n",
    "    print ('Mean:', np.mean(data_temp))\n",
    "    print ('Standard deviation:', np.std(data_temp))\n",
    "    print ('Minimum:', np.min(data_temp))\n",
    "    print ('Maximum:', np.max(data_temp))"
   ]
  },
  {
   "cell_type": "code",
   "execution_count": 23,
   "metadata": {},
   "outputs": [
    {
     "name": "stdout",
     "output_type": "stream",
     "text": [
      "Mean: 1.636180904522613\n",
      "Standard deviation: 3.002561299829423\n",
      "Minimum: 0\n",
      "Maximum: 36\n"
     ]
    }
   ],
   "source": [
    "account_engagement = group_data(paid_engagement_in_first_week, 'account_key')\n",
    "account_lessons = sum_grouped_data(account_engagement, 'lessons_completed')\n",
    "describe_data(account_lessons)"
   ]
  },
  {
   "cell_type": "markdown",
   "metadata": {},
   "source": [
    "## Number of Visits in First Week"
   ]
  },
  {
   "cell_type": "code",
   "execution_count": 24,
   "metadata": {},
   "outputs": [
    {
     "name": "stdout",
     "output_type": "stream",
     "text": [
      "Mean: 2.8673366834170855\n",
      "Standard deviation: 2.2551980029196814\n",
      "Minimum: 0\n",
      "Maximum: 7\n"
     ]
    }
   ],
   "source": [
    "######################################\n",
    "#                 10                 #\n",
    "######################################\n",
    "\n",
    "## Find the mean, standard deviation, minimum, and maximum for the number of\n",
    "## days each student visits the classroom during the first week.\n",
    "\n",
    "# \"visits the classroom\" means visited any class\n",
    "# for variety, I'll create a new key:value for with day : visited\n",
    "# can't do this for paid_engagement_in_first_week becuase we may use later dates as well.\n",
    "# easiest possible place to edit fields is paid_engagements\n",
    "for engagement in paid_engagements:\n",
    "    if engagement['num_courses_visited'] > 0:\n",
    "        engagement['visited'] = 1\n",
    "    else:\n",
    "        engagement['visited'] = 0\n",
    "#print(paid_engagements[0])\n",
    "\n",
    "account_engagement = group_data(paid_engagement_in_first_week, 'account_key')\n",
    "account_visits = sum_grouped_data(account_engagement, 'visited')\n",
    "describe_data(account_visits)\n",
    "\n"
   ]
  },
  {
   "cell_type": "markdown",
   "metadata": {},
   "source": [
    "## Splitting out Passing Students"
   ]
  },
  {
   "cell_type": "code",
   "execution_count": 57,
   "metadata": {},
   "outputs": [
    {
     "name": "stdout",
     "output_type": "stream",
     "text": [
      "passing students:  652\n",
      "\n",
      "non passing students:  0\n"
     ]
    },
    {
     "ename": "IndexError",
     "evalue": "list index out of range",
     "output_type": "error",
     "traceback": [
      "\u001b[0;31m---------------------------------------------------------------------------\u001b[0m",
      "\u001b[0;31mIndexError\u001b[0m                                Traceback (most recent call last)",
      "\u001b[0;32m<ipython-input-57-ad56701aea14>\u001b[0m in \u001b[0;36m<module>\u001b[0;34m()\u001b[0m\n\u001b[1;32m     29\u001b[0m \u001b[0;34m\u001b[0m\u001b[0m\n\u001b[1;32m     30\u001b[0m \u001b[0mprint\u001b[0m\u001b[0;34m(\u001b[0m\u001b[0;34m\"\\nnon passing students: \"\u001b[0m\u001b[0;34m,\u001b[0m \u001b[0mtotal\u001b[0m \u001b[0;34m)\u001b[0m\u001b[0;34m\u001b[0m\u001b[0m\n\u001b[0;32m---> 31\u001b[0;31m \u001b[0mprint_data\u001b[0m\u001b[0;34m(\u001b[0m\u001b[0mnon_passing_engagement\u001b[0m\u001b[0;34m[\u001b[0m\u001b[0;36m0\u001b[0m\u001b[0;34m]\u001b[0m\u001b[0;34m)\u001b[0m \u001b[0;31m# non_passing_engagement is subset of account_engagement\u001b[0m\u001b[0;34m\u001b[0m\u001b[0m\n\u001b[0m",
      "\u001b[0;31mIndexError\u001b[0m: list index out of range"
     ]
    }
   ],
   "source": [
    "######################################\n",
    "#                 11                 #\n",
    "######################################\n",
    "\n",
    "## Create two lists of engagement data for paid students in the first week.\n",
    "## The first list should contain data for students who eventually pass the\n",
    "## subway project, and the second list should contain data for students\n",
    "## who do not.\n",
    "\n",
    "subway_project_lesson_keys = ['746169184', '3176718735']\n",
    "account_subbmisions = group_data(paid_submissions, 'account_key')\n",
    "#print_data(account_subbmisions['256']) # for reference\n",
    "\n",
    "passing_engagement = []\n",
    "for account_key, dict_list in account_subbmisions.items():\n",
    "        for values in dict_list:\n",
    "            if values['lesson_key'] in subway_project_lesson_keys \\\n",
    "                    and ( values['assigned_rating'] in ('PASSED', 'DISTINCTION') ):\n",
    "                passing_engagement.append(account_engagement[account_key])\n",
    "\n",
    "print(\"passing students: \", len(passing_engagement))\n",
    "#print_data(passing_engagement[0]) # passing_engagement is subset of account_engagement\n",
    "\n",
    "total = 0\n",
    "non_passing_engagement = [ ]\n",
    "for account_key, value_list in account_engagement.items():\n",
    "    if account_key in passing_engagement:\n",
    "        non_passing_engagement.append(account_engagement[account_key]) \n",
    "        total += 1\n",
    "\n",
    "print(\"\\nnon passing students: \", total )\n",
    "print_data(non_passing_engagement[0]) # non_passing_engagement is subset of account_engagement\n"
   ]
  },
  {
   "cell_type": "markdown",
   "metadata": {},
   "source": [
    "## Comparing the Two Student Groups"
   ]
  },
  {
   "cell_type": "code",
   "execution_count": 26,
   "metadata": {},
   "outputs": [],
   "source": [
    "######################################\n",
    "#                 12                 #\n",
    "######################################\n",
    "\n",
    "## Compute some metrics you're interested in and see how they differ for\n",
    "## students who pass the subway project vs. students who don't. A good\n",
    "## starting point would be the metrics we looked at earlier (minutes spent\n",
    "## in the classroom, lessons completed, and days visited)."
   ]
  },
  {
   "cell_type": "markdown",
   "metadata": {},
   "source": [
    "## Making Histograms"
   ]
  },
  {
   "cell_type": "code",
   "execution_count": 27,
   "metadata": {},
   "outputs": [],
   "source": [
    "######################################\n",
    "#                 13                 #\n",
    "######################################\n",
    "\n",
    "## Make histograms of the three metrics we looked at earlier for both\n",
    "## students who passed the subway project and students who didn't. You\n",
    "## might also want to make histograms of any other metrics you examined."
   ]
  },
  {
   "cell_type": "markdown",
   "metadata": {},
   "source": [
    "## Improving Plots and Sharing Findings"
   ]
  },
  {
   "cell_type": "code",
   "execution_count": 28,
   "metadata": {},
   "outputs": [],
   "source": [
    "######################################\n",
    "#                 14                 #\n",
    "######################################\n",
    "\n",
    "## Make a more polished version of at least one of your visualizations\n",
    "## from earlier. Try importing the seaborn library to make the visualization\n",
    "## look better, adding axis labels and a title, and changing one or more\n",
    "## arguments to the hist() function."
   ]
  }
 ],
 "metadata": {
  "kernelspec": {
   "display_name": "Python 2",
   "language": "python",
   "name": "python2"
  },
  "language_info": {
   "codemirror_mode": {
    "name": "ipython",
    "version": 3
   },
   "file_extension": ".py",
   "mimetype": "text/x-python",
   "name": "python",
   "nbconvert_exporter": "python",
   "pygments_lexer": "ipython3",
   "version": "3.7.0"
  }
 },
 "nbformat": 4,
 "nbformat_minor": 1
}
